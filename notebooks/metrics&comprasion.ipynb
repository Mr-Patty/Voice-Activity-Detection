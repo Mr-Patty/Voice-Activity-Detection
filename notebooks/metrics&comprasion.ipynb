{
 "cells": [
  {
   "cell_type": "code",
   "execution_count": 2,
   "id": "5db2f0d2-3d30-469c-9034-dd7801c31807",
   "metadata": {},
   "outputs": [],
   "source": [
    "import webrtcvad\n",
    "import IPython\n",
    "import soundfile as sf\n",
    "\n",
    "import collections\n",
    "import contextlib\n",
    "import sys\n",
    "import wave\n",
    "import json\n",
    "import pickle\n",
    "import torch\n",
    "\n",
    "\n",
    "from os import listdir\n",
    "# from webrtc_utils import *\n",
    "\n",
    "from soundfile import SoundFile, SEEK_END\n",
    "\n",
    "from collections import defaultdict\n",
    "from tqdm import tqdm\n",
    "import torch.nn as nn\n",
    "\n",
    "from os import walk\n",
    "import math\n",
    "import numpy as np\n",
    "import librosa\n",
    "\n",
    "#display waveform\n",
    "%matplotlib inline\n",
    "import matplotlib.pyplot as plt\n",
    "import librosa.display\n",
    "import torchaudio\n",
    "\n",
    "from sklearn.metrics import classification_report\n",
    "from sklearn.metrics import precision_score\n",
    "from sklearn.metrics import recall_score\n",
    "from sklearn.metrics import roc_auc_score\n",
    "from sklearn.metrics import roc_curve\n",
    "from sklearn import metrics"
   ]
  },
  {
   "cell_type": "code",
   "execution_count": 4,
   "id": "b8fe68fd-5286-40ce-be34-b6c58693d2ee",
   "metadata": {},
   "outputs": [],
   "source": [
    "with open('../../dev.pkl', 'rb') as f:\n",
    "    dev_samples = pickle.load(f) "
   ]
  },
  {
   "cell_type": "code",
   "execution_count": null,
   "id": "d10fdc2f-3ed4-40f0-8c6a-346d18495dd2",
   "metadata": {},
   "outputs": [],
   "source": [
    "class CustomDataset(torch.utils.data.Dataset):\n",
    "\n",
    "    def __init__(self,sample, target):\n",
    "        self.samples = sample\n",
    "        self.targets = target\n",
    "        \n",
    "\n",
    "    def __getitem__(self, n):\n",
    "        return self.samples[n].float(), torch.from_numpy(self.targets[n]).float()\n",
    "\n",
    "    def __len__(self):\n",
    "        return len(self.samples)"
   ]
  }
 ],
 "metadata": {
  "kernelspec": {
   "display_name": "Python 3 (ipykernel)",
   "language": "python",
   "name": "python3"
  },
  "language_info": {
   "codemirror_mode": {
    "name": "ipython",
    "version": 3
   },
   "file_extension": ".py",
   "mimetype": "text/x-python",
   "name": "python",
   "nbconvert_exporter": "python",
   "pygments_lexer": "ipython3",
   "version": "3.8.10"
  }
 },
 "nbformat": 4,
 "nbformat_minor": 5
}
