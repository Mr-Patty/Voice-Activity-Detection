{
 "cells": [
  {
   "cell_type": "code",
   "execution_count": 65,
   "id": "5db2f0d2-3d30-469c-9034-dd7801c31807",
   "metadata": {},
   "outputs": [],
   "source": [
    "import webrtcvad\n",
    "import IPython\n",
    "import soundfile as sf\n",
    "\n",
    "import collections\n",
    "import contextlib\n",
    "import sys\n",
    "import wave\n",
    "import json\n",
    "import pickle\n",
    "import torch\n",
    "import os\n",
    "\n",
    "\n",
    "from os import listdir\n",
    "from webrtc_utils import *\n",
    "    \n",
    "import torch.nn as nn\n",
    "import torch.nn.functional as F\n",
    "\n",
    "from collections import defaultdict\n",
    "from tqdm import tqdm\n",
    "import torch.nn as nn\n",
    "\n",
    "from os import walk\n",
    "import math\n",
    "import numpy as np\n",
    "import librosa\n",
    "\n",
    "#display waveform\n",
    "%matplotlib inline\n",
    "import matplotlib.pyplot as plt\n",
    "import librosa.display\n",
    "import torchaudio\n",
    "\n",
    "from sklearn.metrics import classification_report\n",
    "from sklearn.metrics import precision_score\n",
    "from sklearn.metrics import recall_score\n",
    "from sklearn.metrics import roc_auc_score\n",
    "from sklearn.metrics import roc_curve\n",
    "from sklearn.metrics import auc\n",
    "from sklearn import metrics"
   ]
  },
  {
   "cell_type": "code",
   "execution_count": 4,
   "id": "b8fe68fd-5286-40ce-be34-b6c58693d2ee",
   "metadata": {},
   "outputs": [],
   "source": [
    "with open('../../dev.pkl', 'rb') as f:\n",
    "    dev_samples = pickle.load(f) "
   ]
  },
  {
   "cell_type": "code",
   "execution_count": 63,
   "id": "d10fdc2f-3ed4-40f0-8c6a-346d18495dd2",
   "metadata": {},
   "outputs": [],
   "source": [
    "class CustomDataset(torch.utils.data.Dataset):\n",
    "\n",
    "    def __init__(self,sample, target):\n",
    "        self.samples = sample\n",
    "        self.targets = target\n",
    "        \n",
    "\n",
    "    def __getitem__(self, n):\n",
    "        return self.samples[n].float(), torch.from_numpy(self.targets[n]).float()\n",
    "\n",
    "    def __len__(self):\n",
    "        return len(self.samples)\n",
    "\n",
    "def frame_generator(frame_duration_ms, audio, sample_rate):\n",
    "    \"\"\"Generates audio frames from PCM audio data.\n",
    "    Takes the desired frame duration in milliseconds, the PCM data, and\n",
    "    the sample rate.\n",
    "    Yields Frames of the requested duration.\n",
    "    \"\"\"\n",
    "    n = int(sample_rate * (frame_duration_ms / 1000.0) * 2)\n",
    "    offset = 0\n",
    "    timestamp = 0.0\n",
    "    duration = (float(n) / sample_rate) / 2.0\n",
    "    while offset + n <= len(audio):\n",
    "        yield Frame(audio[offset:offset + n], timestamp, duration)\n",
    "        timestamp += duration\n",
    "        offset += n\n",
    "\n",
    "    \n",
    "class LSTMModel(nn.Module):\n",
    "    def __init__(self, inpud_dim=40, hidden_dim=64, n_layers=2, dropout=0.5):\n",
    "        super(LSTMModel, self).__init__()\n",
    "\n",
    "        self.lstm = nn.LSTM(inpud_dim, hidden_dim, num_layers=n_layers, batch_first=True)\n",
    "        self.layer_norm = nn.LayerNorm(hidden_dim)\n",
    "\n",
    "        self.fc1 = nn.Linear(hidden_dim, hidden_dim//2)\n",
    "        self.fc2 = nn.Linear(hidden_dim//2, 1)\n",
    "        self.dropout1 = nn.Dropout(dropout)\n",
    "        \n",
    "        self.fc = nn.Linear(hidden_dim, 1)\n",
    "\n",
    "    def forward(self, x):\n",
    "#         x = self.layer_norm(x)\n",
    "        x, _ = self.lstm(x)\n",
    "#         x = self.layer_norm(x)\n",
    "        x = self.fc1(x)\n",
    "        x = F.leaky_relu(x)\n",
    "        x = self.dropout1(x)\n",
    "        x = self.fc2(x)\n",
    "        x = torch.sigmoid(x)\n",
    "        \n",
    "        return x\n",
    "    "
   ]
  },
  {
   "cell_type": "code",
   "execution_count": 37,
   "id": "f69ba41d-9346-4f27-9ac8-cef839fa8fab",
   "metadata": {},
   "outputs": [],
   "source": [
    "audio_transforms = nn.Sequential(\n",
    "    torchaudio.transforms.MFCC(sample_rate=16000, n_mfcc=40, melkwargs={'win_length':400, 'hop_length':160, \"center\":True, 'n_mels':64}),\n",
    "    torchaudio.transforms.SlidingWindowCmn(cmn_window=300, norm_vars=True, center=True)\n",
    ")\n",
    "def testModel(model, max_samples=10000, device='cuda', test_path='../../test'):\n",
    "    \n",
    "    model.to(device)\n",
    "    test_y = []\n",
    "    test_X = []\n",
    "    for key in tqdm(listdir(test_path)[:max_samples]):\n",
    "        path = os.path.join(test_path, key)\n",
    "        target = np.array(dev_samples[key])\n",
    "        signal, samplerate = sf.read(path)\n",
    "        \n",
    "        \n",
    "        mfcc = audio_transforms(torch.from_numpy(signal).float())[:,:-1].transpose(0, 1)\n",
    "        test_X.append(mfcc)\n",
    "        test_y.append(target)\n",
    "    \n",
    "    \n",
    "    test_dataset = CustomDataset(test_X, test_y)\n",
    "    use_cuda = device == 'cuda'\n",
    "    kwargs = {'num_workers': 0, 'pin_memory': True} if use_cuda else {}\n",
    "\n",
    "    print('DATASET SIZE: {}'.format(len(test_dataset)))\n",
    "    \n",
    "    model.eval()\n",
    "    preds = []\n",
    "    for x, _ in tqdm(test_dataset):\n",
    "        \n",
    "        with torch.no_grad():\n",
    "            output = model(torch.unsqueeze(x, 0).float().to(device))\n",
    "            pred = output.cpu().detach().numpy()\n",
    "            preds.extend(pred)\n",
    "    \n",
    "    return test_y, preds"
   ]
  },
  {
   "cell_type": "code",
   "execution_count": 12,
   "id": "a3e1d4e1-e32d-4210-b972-0e73d4b05c34",
   "metadata": {},
   "outputs": [
    {
     "data": {
      "text/plain": [
       "LSTMModel(\n",
       "  (lstm): LSTM(40, 64, num_layers=2, batch_first=True)\n",
       "  (layer_norm): LayerNorm((64,), eps=1e-05, elementwise_affine=True)\n",
       "  (fc1): Linear(in_features=64, out_features=32, bias=True)\n",
       "  (fc2): Linear(in_features=32, out_features=1, bias=True)\n",
       "  (dropout1): Dropout(p=0.5, inplace=False)\n",
       "  (fc): Linear(in_features=64, out_features=1, bias=True)\n",
       ")"
      ]
     },
     "execution_count": 12,
     "metadata": {},
     "output_type": "execute_result"
    }
   ],
   "source": [
    "model = LSTMModel().float()\n",
    "# model = FeedForwardModel().float()\n",
    "model.load_state_dict(torch.load('../data/vad.pt'))\n",
    "model.eval()"
   ]
  },
  {
   "cell_type": "code",
   "execution_count": 67,
   "id": "ca638da9-9b2f-4a0d-8606-78f623d94bae",
   "metadata": {},
   "outputs": [
    {
     "name": "stderr",
     "output_type": "stream",
     "text": [
      "100%|██████████| 10000/10000 [00:44<00:00, 223.31it/s]\n",
      "  0%|          | 4/10000 [00:00<04:39, 35.83it/s]"
     ]
    },
    {
     "name": "stdout",
     "output_type": "stream",
     "text": [
      "DATASET SIZE: 10000\n"
     ]
    },
    {
     "name": "stderr",
     "output_type": "stream",
     "text": [
      "100%|██████████| 10000/10000 [03:09<00:00, 52.83it/s]\n"
     ]
    }
   ],
   "source": [
    "target, pred = testModel(model, max_samples=10000)"
   ]
  },
  {
   "cell_type": "code",
   "execution_count": 69,
   "id": "4396473d-ce5c-4500-904c-d09209f9cb0d",
   "metadata": {},
   "outputs": [
    {
     "name": "stdout",
     "output_type": "stream",
     "text": [
      "              precision    recall  f1-score   support\n",
      "\n",
      "           0       0.58      0.93      0.71   1167129\n",
      "           1       0.99      0.93      0.96  11448449\n",
      "\n",
      "    accuracy                           0.93  12615578\n",
      "   macro avg       0.79      0.93      0.84  12615578\n",
      "weighted avg       0.95      0.93      0.94  12615578\n",
      "\n"
     ]
    }
   ],
   "source": [
    "tmp_pred = np.vstack(pred).squeeze(1) > 0.7\n",
    "print(classification_report(np.hstack(target), tmp_pred.astype(int)))"
   ]
  },
  {
   "cell_type": "code",
   "execution_count": 70,
   "id": "13ec6844-c247-42b6-bd60-0931c9509da4",
   "metadata": {},
   "outputs": [
    {
     "data": {
      "text/plain": [
       "0.9721720399925425"
      ]
     },
     "execution_count": 70,
     "metadata": {},
     "output_type": "execute_result"
    }
   ],
   "source": [
    "roc_auc_score(np.hstack(target), np.vstack(pred).squeeze(1))"
   ]
  },
  {
   "cell_type": "code",
   "execution_count": 73,
   "id": "975d995e-9c17-4a16-bd7b-4eedfd6f8263",
   "metadata": {},
   "outputs": [],
   "source": [
    "fpr, tpr, thresholds = roc_curve(np.hstack(target), np.vstack(pred).squeeze(1))"
   ]
  },
  {
   "cell_type": "code",
   "execution_count": 71,
   "id": "52b2c3ac-b0b4-4eee-8586-21e815aeba6d",
   "metadata": {},
   "outputs": [
    {
     "data": {
      "image/png": "[encoded data removed]",
      "text/plain": [
       "<Figure size 432x288 with 1 Axes>"
      ]
     },
     "metadata": {
      "needs_background": "light"
     },
     "output_type": "display_data"
    }
   ],
   "source": [
    "fpr = dict()\n",
    "tpr = dict()\n",
    "roc_auc = dict()\n",
    "# for i in range(1):\n",
    "#     fpr[i], tpr[i], _ = roc_curve(np.hstack(target), np.vstack(pred).squeeze(1))\n",
    "#     roc_auc[i] = auc(fpr[i], tpr[i])\n",
    "    \n",
    "fpr, tpr, _ = roc_curve(np.hstack(target), np.vstack(pred).squeeze(1))\n",
    "roc_auc = auc(fpr, tpr)\n",
    "\n",
    "plt.figure()\n",
    "lw = 2\n",
    "plt.plot(fpr, tpr, color='darkorange',\n",
    "         lw=lw, label='ROC curve (area = %0.2f)' % roc_auc)\n",
    "plt.plot([0, 1], [0, 1], color='navy', lw=lw, linestyle='--')\n",
    "plt.xlim([0.0, 1.0])\n",
    "plt.ylim([0.0, 1.05])\n",
    "plt.xlabel('False Positive Rate')\n",
    "plt.ylabel('True Positive Rate')\n",
    "plt.title('Receiver operating characteristic example')\n",
    "plt.legend(loc=\"lower right\")\n",
    "plt.show()"
   ]
  },
  {
   "cell_type": "code",
   "execution_count": 74,
   "id": "7b8710db-ae16-4506-82f2-59fb3e3841bb",
   "metadata": {},
   "outputs": [
    {
     "name": "stdout",
     "output_type": "stream",
     "text": [
      "Best Threshold=0.908644, G-Mean=0.945\n"
     ]
    },
    {
     "data": {
      "image/png": "[encoded data removed]",
      "text/plain": [
       "<Figure size 432x288 with 1 Axes>"
      ]
     },
     "metadata": {
      "needs_background": "light"
     },
     "output_type": "display_data"
    }
   ],
   "source": [
    "from matplotlib import pyplot\n",
    "gmeans = np.sqrt(tpr * (1-fpr))\n",
    "# locate the index of the largest g-mean\n",
    "ix = np.argmax(gmeans)\n",
    "print('Best Threshold=%f, G-Mean=%.3f' % (thresholds[ix], gmeans[ix]))\n",
    "# plot the roc curve for the model\n",
    "pyplot.plot([0,1], [0,1], linestyle='--', label='No Skill')\n",
    "pyplot.plot(fpr, tpr, marker='.', label='Logistic')\n",
    "pyplot.scatter(fpr[ix], tpr[ix], marker='o', color='black', label='Best')\n",
    "# axis labels\n",
    "pyplot.xlabel('False Positive Rate')\n",
    "pyplot.ylabel('True Positive Rate')\n",
    "pyplot.legend()\n",
    "# show the plot\n",
    "pyplot.show()"
   ]
  },
  {
   "cell_type": "markdown",
   "id": "0f44726b-0cdc-48f6-b85f-bd8e46801686",
   "metadata": {},
   "source": [
    "## Подсчет FAR and FRR"
   ]
  },
  {
   "cell_type": "code",
   "execution_count": 75,
   "id": "397951b8-bb34-4e29-b8ee-a147d27a77b8",
   "metadata": {},
   "outputs": [],
   "source": [
    "grid = np.arange(0, 1.01, 0.01)\n",
    "tmp_pred = np.vstack(pred).squeeze(1)\n",
    "tmp_target = np.hstack(target)\n",
    "far = []\n",
    "frr = []\n",
    "for thr in grid:\n",
    "    mask = (tmp_pred > thr).astype(int)\n",
    "    fa = np.count_nonzero((mask != tmp_target) & (mask == 1))\n",
    "    far.append(fa / (fa +  np.count_nonzero((mask == tmp_target) & (mask == 0))))\n",
    "    \n",
    "    fr = np.count_nonzero((mask != tmp_target) & (mask == 0))\n",
    "    frr.append(fr / (fr +  np.count_nonzero((mask) == tmp_target) & (mask == 1))))\n",
    "far = np.array(far) \n",
    "frr = np.array(frr)\n",
    "\n",
    "for i, thr in enumerate(grid):\n",
    "    if np.abs(far[i] - frr[i]) < 0.005:\n",
    "        eer = far[i]\n",
    "        eer_thr = thr"
   ]
  },
  {
   "cell_type": "code",
   "execution_count": 76,
   "id": "c0891faf-113b-43e8-81e0-ad0c2b7a3094",
   "metadata": {},
   "outputs": [
    {
     "data": {
      "image/png": "[encoded data removed]",
      "text/plain": [
       "<Figure size 432x288 with 1 Axes>"
      ]
     },
     "metadata": {
      "needs_background": "light"
     },
     "output_type": "display_data"
    }
   ],
   "source": [
    "plt.plot(grid, far,'--b')\n",
    "plt.xlabel('threshold')\n",
    "plt.title('FAR')\n",
    "plt.show()"
   ]
  },
  {
   "cell_type": "code",
   "execution_count": 77,
   "id": "c5322eb5-960b-4ea1-a151-5907ab172fdc",
   "metadata": {},
   "outputs": [
    {
     "data": {
      "image/png": "[encoded data removed]",
      "text/plain": [
       "<Figure size 432x288 with 1 Axes>"
      ]
     },
     "metadata": {
      "needs_background": "light"
     },
     "output_type": "display_data"
    }
   ],
   "source": [
    "plt.plot(grid,frr,'--b')\n",
    "plt.xlabel('threshold')\n",
    "plt.title('FRR')\n",
    "plt.show()"
   ]
  },
  {
   "cell_type": "code",
   "execution_count": 78,
   "id": "d2b3c49b-fdc0-4964-80d2-5ab6271b1900",
   "metadata": {},
   "outputs": [
    {
     "data": {
      "image/png": "[encoded data removed]",
      "text/plain": [
       "<Figure size 432x288 with 1 Axes>"
      ]
     },
     "metadata": {
      "needs_background": "light"
     },
     "output_type": "display_data"
    }
   ],
   "source": [
    "fig, ax = plt.subplots()\n",
    "\n",
    "ax.plot(grid, far, 'r--', label='FAR')\n",
    "ax.plot(grid, frr, 'g--', label='FRR')\n",
    "plt.xlabel('Threshold')\n",
    "plt.plot(eer_thr, eer,'ro', label='EER') \n",
    "\n",
    "\n",
    "legend = ax.legend(loc='upper center', shadow=True, fontsize='x-large')\n",
    "\n",
    "# Put a nicer background color on the legend.\n",
    "legend.get_frame().set_facecolor('C0')\n"
   ]
  },
  {
   "cell_type": "markdown",
   "id": "bf15722b-b898-417f-9466-38402a61e1bb",
   "metadata": {},
   "source": [
    "### Три порога при FA=1%, FR=1% and FA=FR"
   ]
  },
  {
   "cell_type": "code",
   "execution_count": 79,
   "id": "373f5fc4-2cbd-40e3-94bb-a2b607270ab5",
   "metadata": {},
   "outputs": [
    {
     "name": "stdout",
     "output_type": "stream",
     "text": [
      "fa=1%: 0.9500000000000001,\n",
      "fr=1%: 0.64,\n",
      "fa=fa: 0.71,\n",
      "error fa=fr: 6.551546572829567\n",
      "\n"
     ]
    }
   ],
   "source": [
    "print('fa=1%: {},\\nfr=1%: {},\\nfa=fa: {},\\nerror fa=fr: {}\\n'.format(grid[frr < 0.1].max(), grid[far < 0.1].min(), eer_thr, eer * 100))"
   ]
  },
  {
   "cell_type": "markdown",
   "id": "1a2647cf-a000-40f8-a80e-4d77774761bd",
   "metadata": {},
   "source": [
    "## Сравнение с бейзлайном"
   ]
  },
  {
   "cell_type": "markdown",
   "id": "9b13bba9-b1b5-4889-8275-99e7d2fc6188",
   "metadata": {},
   "source": [
    "### Предложенная модель"
   ]
  },
  {
   "cell_type": "code",
   "execution_count": 80,
   "id": "a1e30bec-ac2c-4488-b975-e3d16e50484f",
   "metadata": {},
   "outputs": [
    {
     "name": "stdout",
     "output_type": "stream",
     "text": [
      "              precision    recall  f1-score   support\n",
      "\n",
      "           0       0.58      0.93      0.71   1167129\n",
      "           1       0.99      0.93      0.96  11448449\n",
      "\n",
      "    accuracy                           0.93  12615578\n",
      "   macro avg       0.79      0.93      0.84  12615578\n",
      "weighted avg       0.95      0.93      0.94  12615578\n",
      "\n"
     ]
    }
   ],
   "source": [
    "tmp_pred = np.vstack(pred).squeeze(1) > 0.7\n",
    "print(classification_report(np.hstack(target), tmp_pred.astype(int)))"
   ]
  },
  {
   "cell_type": "markdown",
   "id": "fe1d63e0-0010-43a7-bc8b-b3e4a3ab0bf0",
   "metadata": {},
   "source": [
    "### Модель webrtc"
   ]
  },
  {
   "cell_type": "code",
   "execution_count": 66,
   "id": "50db6d3f-aa7e-4fe6-b5b9-575a965050a0",
   "metadata": {},
   "outputs": [
    {
     "name": "stderr",
     "output_type": "stream",
     "text": [
      "100%|██████████| 10000/10000 [04:10<00:00, 39.91it/s]\n"
     ]
    },
    {
     "name": "stdout",
     "output_type": "stream",
     "text": [
      "              precision    recall  f1-score   support\n",
      "\n",
      "           0       0.45      0.24      0.31   1167129\n",
      "           1       0.93      0.97      0.95  11448449\n",
      "\n",
      "    accuracy                           0.90  12615578\n",
      "   macro avg       0.69      0.60      0.63  12615578\n",
      "weighted avg       0.88      0.90      0.89  12615578\n",
      "\n"
     ]
    }
   ],
   "source": [
    "preds = []\n",
    "targets = []\n",
    "vad = webrtcvad.Vad(1)\n",
    "my_path = '../../test'\n",
    "for name in tqdm(listdir(my_path)[:10000]):\n",
    "    vads = []\n",
    "    path = os.path.join(my_path, name)\n",
    "    audio, sample_rate = read_wave(path)\n",
    "    target = dev_samples[name]\n",
    "    targets.extend(target)\n",
    "    \n",
    "    frames = frame_generator(10, audio, sample_rate)\n",
    "    frames = list(frames)\n",
    "    \n",
    "    for frame in frames:\n",
    "        is_speech = vad.is_speech(frame.bytes, sample_rate)\n",
    "        speech = 1 if is_speech else 0\n",
    "        vads.append(speech)\n",
    "    preds.extend(vads)\n",
    "\n",
    "print(classification_report(targets, preds))"
   ]
  },
  {
   "cell_type": "code",
   "execution_count": null,
   "id": "debb6bbc-c254-4620-9f74-158f05ba9984",
   "metadata": {},
   "outputs": [],
   "source": []
  }
 ],
 "metadata": {
  "kernelspec": {
   "display_name": "Python 3 (ipykernel)",
   "language": "python",
   "name": "python3"
  },
  "language_info": {
   "codemirror_mode": {
    "name": "ipython",
    "version": 3
   },
   "file_extension": ".py",
   "mimetype": "text/x-python",
   "name": "python",
   "nbconvert_exporter": "python",
   "pygments_lexer": "ipython3",
   "version": "3.8.10"
  }
 },
 "nbformat": 4,
 "nbformat_minor": 5
}
